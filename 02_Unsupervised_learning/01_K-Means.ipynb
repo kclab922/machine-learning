{
 "cells": [
  {
   "cell_type": "markdown",
   "id": "f8404fb6",
   "metadata": {},
   "source": [
    "# 1. K-Means\n",
    "\n",
    "- 데이터를 K개의 클러스터(그룹)로 군집화하는 알고리즘\n",
    "- 각 데이터로부터 이들이 속한 클러스터의 중심점(Centroid)까지의 평균 거리를 계산"
   ]
  },
  {
   "cell_type": "markdown",
   "id": "14dea75a",
   "metadata": {},
   "source": [
    "### 1. K-Means 동작 순서\n",
    "1. K값 설정\n",
    "2. 지정된 K개 만큼의 랜덤 좌표 설정\n",
    "3. 모든 데이터로부터 가장 가까운 중심점 선택\n",
    "4. 데이터들의 평균 중심으로 중심점 이동 \n",
    "5. 3~4의 과정에서 중심점이 더이상 이동되지 않을 때까지 3~4 반복"
   ]
  },
  {
   "cell_type": "markdown",
   "id": "84af0fc8",
   "metadata": {},
   "source": [
    "### 2. Random Initialization Trap\n",
    "- K-means 방식으로 했을 때, '2.지정된 K개 만큼의 랜덤 좌표 설정'시, 같은 데이터에 대해 처음 설정하는 좌표가 바뀔 때마다 클러스터링이 다르게 만들어지는 문제 발생"
   ]
  },
  {
   "cell_type": "markdown",
   "id": "9eef8eb1",
   "metadata": {},
   "source": [
    "### 3. K-Means ++\n",
    "1. 데이터 중에서 랜덤으로 1개를 중심점으로 선택\n",
    "2. 중심점으로부터 나머지 데이터들까지에 거리를 각각 계산\n",
    "3. 중심점과 가장 먼 지점의 데이터를 다음 중심점으로 선택\n",
    "3."
   ]
  },
  {
   "cell_type": "code",
   "execution_count": null,
   "id": "b38545e7",
   "metadata": {},
   "outputs": [],
   "source": []
  }
 ],
 "metadata": {
  "kernelspec": {
   "display_name": "Python 3 (ipykernel)",
   "language": "python",
   "name": "python3"
  },
  "language_info": {
   "codemirror_mode": {
    "name": "ipython",
    "version": 3
   },
   "file_extension": ".py",
   "mimetype": "text/x-python",
   "name": "python",
   "nbconvert_exporter": "python",
   "pygments_lexer": "ipython3",
   "version": "3.11.5"
  }
 },
 "nbformat": 4,
 "nbformat_minor": 5
}
