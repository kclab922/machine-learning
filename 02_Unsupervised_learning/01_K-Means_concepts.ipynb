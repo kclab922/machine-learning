{
 "cells": [
  {
   "cell_type": "markdown",
   "id": "82bb5984",
   "metadata": {},
   "source": [
    "# 1. K-Means (Concepts)\n",
    "\n",
    "- 데이터를 K개의 클러스터(그룹)로 군집화하는 알고리즘\n",
    "- 각 데이터로부터 이들이 속한 클러스터의 중심점(Centroid)까지의 평균 거리를 계산"
   ]
  },
  {
   "cell_type": "markdown",
   "id": "c6798b20",
   "metadata": {},
   "source": [
    "### 1. K-Means 동작 순서\n",
    "1. K값 설정\n",
    "2. 지정된 K개 만큼의 랜덤 좌표 설정\n",
    "3. 모든 데이터로부터 가장 가까운 중심점 선택\n",
    "4. 데이터들의 평균 중심으로 중심점 이동 \n",
    "5. 3~4의 과정에서 중심점이 더이상 이동되지 않을 때까지 3~4 반복"
   ]
  },
  {
   "cell_type": "markdown",
   "id": "24d2c98f",
   "metadata": {},
   "source": [
    "### 2. Random Initialization Trap\n",
    "- K-means 방식으로 했을 때, '2.지정된 K개 만큼의 랜덤 좌표 설정'시, 같은 데이터에 대해 처음 설정하는 좌표가 바뀔 때마다 클러스터링이 다르게 만들어지는 문제 발생"
   ]
  },
  {
   "cell_type": "markdown",
   "id": "7fcb883a",
   "metadata": {},
   "source": [
    "### 3. K-Means ++\n",
    "- K-means의 문제 해결\n",
    "1. 데이터 중에서 랜덤으로 1개를 중심점으로 선택\n",
    "2. 중심점으로부터 나머지 데이터들까지에 거리를 각각 계산\n",
    "3. 중심점과 가장 먼 지점의 데이터를 다음 중심점으로 선택\n",
    "4. 중심점이 K가 될 때까지 반복\n",
    "5. 전통적인 K-Means 방식 진행"
   ]
  },
  {
   "cell_type": "markdown",
   "id": "356ae338",
   "metadata": {},
   "source": [
    "### 4. Elbow Method\n",
    "- optimal K를 찾는 방법\n",
    "- X축: K(number of clusters), yc축: Average distance to centroid\n",
    "1. K 개수의 변화에 따른 중심점까지의 평균 거리를 비교하는 그래프에서\n",
    "2. 경사가 갑자기 완만해지는 지점의 K 선정"
   ]
  },
  {
   "cell_type": "markdown",
   "id": "66495093",
   "metadata": {},
   "source": [
    "### 5. 유사도 \n",
    "> 각 데이터 간의 거리가 짧을수록 유사도가 높음\n",
    "1. Euclidean Distance\n",
    "- 대각선 거리\n",
    "- (x1, y1)에서부터 (x2, y2)까지의 거리 = ((x2-x1)^2 + (y2-y1)^2)^0.5 (피타고라스 활용)\n",
    "2. Manhattan Distance\n",
    "- 좌표평면의 눈금칸을 따라 이동한 거리\n",
    "- (x1, y1)에서부터 (x2, y2)까지의 거리 = |x2-x1| + |y2-y1|\n",
    "3. Cosine Similarity\n",
    "- 좌표평면 상에 중심점 3개 선정\n",
    "- (0,0)과 각 중심점을 이은 직선 그리기\n",
    "- 직선들 간의 각도를 측정해, 이루는 각도가 가장 작은 선 2개 도출\n",
    "- 해당 선들이 지나가는 중심점 2개가 가장 가까운 중심점들이 됨\n",
    "- 따라서 해당 선들 2개가 이루는 면적 내에 위치한 중심점들은 다 유사도가 높음"
   ]
  },
  {
   "cell_type": "code",
   "execution_count": null,
   "id": "f12c8473",
   "metadata": {},
   "outputs": [],
   "source": []
  }
 ],
 "metadata": {
  "kernelspec": {
   "display_name": "Python 3 (ipykernel)",
   "language": "python",
   "name": "python3"
  },
  "language_info": {
   "codemirror_mode": {
    "name": "ipython",
    "version": 3
   },
   "file_extension": ".py",
   "mimetype": "text/x-python",
   "name": "python",
   "nbconvert_exporter": "python",
   "pygments_lexer": "ipython3",
   "version": "3.11.5"
  }
 },
 "nbformat": 4,
 "nbformat_minor": 5
}
