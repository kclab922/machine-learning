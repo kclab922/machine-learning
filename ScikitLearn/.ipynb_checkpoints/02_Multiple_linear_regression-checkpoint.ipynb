{
 "cells": [
  {
   "cell_type": "markdown",
   "id": "28f45470",
   "metadata": {},
   "source": [
    "# 2. Multiple Linear Regression"
   ]
  },
  {
   "cell_type": "code",
   "execution_count": 1,
   "id": "f72b7cb2",
   "metadata": {},
   "outputs": [],
   "source": [
    "import pandas as pd\n",
    "import matplotlib.pyplot as plt"
   ]
  },
  {
   "cell_type": "code",
   "execution_count": 3,
   "id": "6e54ebec",
   "metadata": {},
   "outputs": [
    {
     "data": {
      "text/plain": [
       "(array([[0.5, 3, 'Home'],\n",
       "        [1.2, 4, 'Library'],\n",
       "        [1.8, 2, 'Cafe'],\n",
       "        [2.4, 0, 'Cafe'],\n",
       "        [2.6, 2, 'Home'],\n",
       "        [3.2, 0, 'Home'],\n",
       "        [3.9, 0, 'Library'],\n",
       "        [4.4, 0, 'Library'],\n",
       "        [4.5, 5, 'Home'],\n",
       "        [5.0, 1, 'Cafe'],\n",
       "        [5.3, 2, 'Cafe'],\n",
       "        [5.8, 0, 'Cafe'],\n",
       "        [6.0, 3, 'Library'],\n",
       "        [6.1, 1, 'Cafe'],\n",
       "        [6.2, 1, 'Library'],\n",
       "        [6.9, 4, 'Home'],\n",
       "        [7.2, 2, 'Cafe'],\n",
       "        [8.4, 1, 'Home'],\n",
       "        [8.6, 1, 'Library'],\n",
       "        [10.0, 0, 'Library']], dtype=object),\n",
       " array([ 10,   8,  14,  26,  22,  30,  42,  48,  38,  58,  60,  72,  62,\n",
       "         68,  72,  58,  76,  86,  90, 100], dtype=int64))"
      ]
     },
     "execution_count": 3,
     "metadata": {},
     "output_type": "execute_result"
    }
   ],
   "source": [
    "dataset = pd.read_csv('MultipleLinearRegressionData.csv')\n",
    "X = dataset.iloc[:, :-1].values\n",
    "y = dataset.iloc[:, -1].values\n",
    "\n",
    "X, y"
   ]
  },
  {
   "cell_type": "code",
   "execution_count": 5,
   "id": "0d36e323",
   "metadata": {},
   "outputs": [
    {
     "data": {
      "text/plain": [
       "<20x22 sparse matrix of type '<class 'numpy.float64'>'\n",
       "\twith 46 stored elements in Compressed Sparse Row format>"
      ]
     },
     "execution_count": 5,
     "metadata": {},
     "output_type": "execute_result"
    }
   ],
   "source": [
    "from sklearn.compose import ColumnTransformer\n",
    "from sklearn.preprocessing import OneHotEncoder\n",
    "ct = ColumnTransformer(transformers=[('encoder', OneHotEncoder(drop='first'), [2])], remainder='passthrough')\n",
    "X = ct.fit_transform(X)\n",
    "X\n",
    "\n",
    "# 1 0 : Home\n",
    "# 0 1 : Library\n",
    "# 0 0 : Cafe"
   ]
  },
  {
   "cell_type": "code",
   "execution_count": null,
   "id": "413d24aa",
   "metadata": {},
   "outputs": [],
   "source": []
  }
 ],
 "metadata": {
  "kernelspec": {
   "display_name": "Python 3 (ipykernel)",
   "language": "python",
   "name": "python3"
  },
  "language_info": {
   "codemirror_mode": {
    "name": "ipython",
    "version": 3
   },
   "file_extension": ".py",
   "mimetype": "text/x-python",
   "name": "python",
   "nbconvert_exporter": "python",
   "pygments_lexer": "ipython3",
   "version": "3.11.5"
  }
 },
 "nbformat": 4,
 "nbformat_minor": 5
}
